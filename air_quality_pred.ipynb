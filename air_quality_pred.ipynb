{
 "cells": [
  {
   "cell_type": "code",
   "execution_count": 2,
   "id": "09411157-eeda-4521-b58b-bd5ce7d366e6",
   "metadata": {},
   "outputs": [
    {
     "name": "stdout",
     "output_type": "stream",
     "text": [
      "Found existing installation: numpy 1.26.4\n",
      "Uninstalling numpy-1.26.4:\n",
      "  Successfully uninstalled numpy-1.26.4\n",
      "Found existing installation: pandas 2.2.3\n",
      "Uninstalling pandas-2.2.3:\n",
      "  Successfully uninstalled pandas-2.2.3\n",
      "Found existing installation: scikit-learn 1.6.1\n",
      "Uninstalling scikit-learn-1.6.1:\n",
      "  Successfully uninstalled scikit-learn-1.6.1\n",
      "Found existing installation: joblib 1.5.1\n",
      "Uninstalling joblib-1.5.1:\n",
      "  Successfully uninstalled joblib-1.5.1\n",
      "Found existing installation: mlflow 2.22.0\n",
      "Uninstalling mlflow-2.22.0:\n",
      "  Successfully uninstalled mlflow-2.22.0\n"
     ]
    }
   ],
   "source": [
    "!pip uninstall -y numpy pandas scikit-learn joblib mlflow\n"
   ]
  },
  {
   "cell_type": "code",
   "execution_count": 4,
   "id": "07a2faea-592a-411e-8e1c-17f670a29d24",
   "metadata": {},
   "outputs": [
    {
     "name": "stdout",
     "output_type": "stream",
     "text": [
      "\u001b[31mERROR: pip's dependency resolver does not currently take into account all the packages that are installed. This behaviour is the source of the following dependency conflicts.\n",
      "pandas-ml 0.6.1 requires enum34, which is not installed.\n",
      "azure-cli 2.71.0 requires azure-datalake-store~=1.0.0a0, but you have azure-datalake-store 0.0.53 which is incompatible.\n",
      "azure-cli 2.71.0 requires azure-keyvault-keys==4.9.0b3, but you have azure-keyvault-keys 4.8.0 which is incompatible.\n",
      "azure-cli 2.71.0 requires azure-mgmt-containerregistry==10.3.0, but you have azure-mgmt-containerregistry 13.0.0 which is incompatible.\n",
      "azure-cli 2.71.0 requires azure-mgmt-resource==23.1.1, but you have azure-mgmt-resource 23.4.0 which is incompatible.\n",
      "azure-cli 2.71.0 requires azure-mgmt-storage==22.1.0, but you have azure-mgmt-storage 23.0.0 which is incompatible.\n",
      "azure-cli 2.71.0 requires websocket-client~=1.3.1, but you have websocket-client 1.8.0 which is incompatible.\n",
      "azure-cli-core 2.71.0 requires argcomplete~=3.5.2, but you have argcomplete 3.6.2 which is incompatible.\n",
      "azure-cli-core 2.71.0 requires knack~=0.11.0, but you have knack 0.12.0 which is incompatible.\n",
      "azure-cli-core 2.71.0 requires msal[broker]==1.31.2b1, but you have msal 1.32.3 which is incompatible.\n",
      "azure-cli-core 2.71.0 requires msal-extensions==1.2.0, but you have msal-extensions 1.3.1 which is incompatible.\n",
      "azure-cli-core 2.71.0 requires psutil>=5.9; sys_platform != \"cygwin\", but you have psutil 5.2.2 which is incompatible.\n",
      "azureml-automl-dnn-nlp 1.60.0 requires torch==2.2.2, but you have torch 2.6.0 which is incompatible.\n",
      "azureml-automl-runtime 1.60.0 requires scipy<=1.11.0,>=1.0.0, but you have scipy 1.15.3 which is incompatible.\n",
      "azureml-automl-runtime 1.60.0 requires urllib3<2.0.0, but you have urllib3 2.4.0 which is incompatible.\n",
      "azureml-inference-server-http 1.4.0 requires flask~=3.0.0, but you have flask 3.1.1 which is incompatible.\n",
      "azureml-inference-server-http 1.4.0 requires gunicorn>=23.0.0; platform_system != \"Windows\", but you have gunicorn 21.2.0 which is incompatible.\n",
      "azureml-inference-server-http 1.4.0 requires pydantic~=2.9.0, but you have pydantic 2.11.5 which is incompatible.\n",
      "azureml-train-automl-runtime 1.60.0 requires scipy<=1.11.0,>=1.0.0, but you have scipy 1.15.3 which is incompatible.\n",
      "azureml-train-automl-runtime 1.60.0 requires urllib3<2.0.0, but you have urllib3 2.4.0 which is incompatible.\n",
      "azureml-training-tabular 1.60.0 requires scipy<1.11.0,>=1.0.0, but you have scipy 1.15.3 which is incompatible.\n",
      "azureml-training-tabular 1.60.0 requires urllib3<2.0.0, but you have urllib3 2.4.0 which is incompatible.\n",
      "dask-expr 1.1.10 requires dask==2024.8.0, but you have dask 2023.2.0 which is incompatible.\n",
      "dask-expr 1.1.10 requires pandas>=2, but you have pandas 1.5.3 which is incompatible.\n",
      "dask-sql 2024.5.0 requires dask[dataframe]>=2024.4.1, but you have dask 2023.2.0 which is incompatible.\n",
      "dask-sql 2024.5.0 requires distributed>=2024.4.1, but you have distributed 2023.2.0 which is incompatible.\n",
      "distributed 2023.2.0 requires psutil>=5.7.0, but you have psutil 5.2.2 which is incompatible.\n",
      "inference-schema 1.8 requires wrapt<=1.16.0,>=1.14.0, but you have wrapt 1.17.2 which is incompatible.\n",
      "jupyterlab-nvdashboard 0.13.0 requires jupyterlab>=4, but you have jupyterlab 3.6.8 which is incompatible.\n",
      "opencensus-ext-azure 1.1.14 requires psutil>=5.6.3, but you have psutil 5.2.2 which is incompatible.\n",
      "responsibleai 0.36.0 requires networkx<=2.5, but you have networkx 3.4 which is incompatible.\n",
      "scikit-image 0.25.0 requires numpy>=1.24, but you have numpy 1.23.5 which is incompatible.\n",
      "tensorflow 2.19.0 requires numpy<2.2.0,>=1.26.0, but you have numpy 1.23.5 which is incompatible.\u001b[0m\u001b[31m\n",
      "\u001b[0m"
     ]
    }
   ],
   "source": [
    "!pip install --quiet \\\n",
    "  \"numpy<=1.23.5\" \\\n",
    "  \"pandas==1.5.3\" \\\n",
    "  \"scikit-learn==1.5.1\" \\\n",
    "  \"joblib==1.2.0\" \\\n",
    "  \"mlflow==2.8.1\"\n"
   ]
  },
  {
   "cell_type": "code",
   "execution_count": 5,
   "id": "da4ec629-4dc8-44f1-8b38-8e73eca2b7a3",
   "metadata": {},
   "outputs": [
    {
     "ename": "ModuleNotFoundError",
     "evalue": "No module named 'sklearn'",
     "output_type": "error",
     "traceback": [
      "\u001b[0;31m---------------------------------------------------------------------------\u001b[0m",
      "\u001b[0;31mModuleNotFoundError\u001b[0m                       Traceback (most recent call last)",
      "Cell \u001b[0;32mIn[5], line 1\u001b[0m\n\u001b[0;32m----> 1\u001b[0m \u001b[38;5;28;01mimport\u001b[39;00m\u001b[38;5;250m \u001b[39m\u001b[38;5;21;01mnumpy\u001b[39;00m\u001b[38;5;241m,\u001b[39m\u001b[38;5;250m \u001b[39m\u001b[38;5;21;01mpandas\u001b[39;00m\u001b[38;5;250m \u001b[39m\u001b[38;5;28;01mas\u001b[39;00m\u001b[38;5;250m \u001b[39m\u001b[38;5;21;01mpd\u001b[39;00m\u001b[38;5;241m,\u001b[39m\u001b[38;5;250m \u001b[39m\u001b[38;5;21;01msklearn\u001b[39;00m\u001b[38;5;241m,\u001b[39m\u001b[38;5;250m \u001b[39m\u001b[38;5;21;01mjoblib\u001b[39;00m\u001b[38;5;241m,\u001b[39m\u001b[38;5;250m \u001b[39m\u001b[38;5;21;01mmlflow\u001b[39;00m\u001b[38;5;241m,\u001b[39m\u001b[38;5;250m \u001b[39m\u001b[38;5;21;01msys\u001b[39;00m\u001b[38;5;241m,\u001b[39m\u001b[38;5;250m \u001b[39m\u001b[38;5;21;01mplatform\u001b[39;00m\n\u001b[1;32m      2\u001b[0m \u001b[38;5;28mprint\u001b[39m(\u001b[38;5;124m\"\u001b[39m\u001b[38;5;124mPython   :\u001b[39m\u001b[38;5;124m\"\u001b[39m, sys\u001b[38;5;241m.\u001b[39mversion\u001b[38;5;241m.\u001b[39msplit()[\u001b[38;5;241m0\u001b[39m], \u001b[38;5;124m\"\u001b[39m\u001b[38;5;124m|\u001b[39m\u001b[38;5;124m\"\u001b[39m, platform\u001b[38;5;241m.\u001b[39mplatform())\n\u001b[1;32m      3\u001b[0m \u001b[38;5;28mprint\u001b[39m(\u001b[38;5;124m\"\u001b[39m\u001b[38;5;124mNumPy    :\u001b[39m\u001b[38;5;124m\"\u001b[39m, numpy\u001b[38;5;241m.\u001b[39m__version__)\n",
      "\u001b[0;31mModuleNotFoundError\u001b[0m: No module named 'sklearn'"
     ]
    }
   ],
   "source": [
    "import numpy, pandas as pd, sklearn, joblib, mlflow, sys, platform\n",
    "print(\"Python   :\", sys.version.split()[0], \"|\", platform.platform())\n",
    "print(\"NumPy    :\", numpy.__version__)\n",
    "print(\"pandas   :\", pd.__version__)\n",
    "print(\"sklearn  :\", sklearn.__version__)\n",
    "print(\"joblib   :\", joblib.__version__)\n",
    "print(\"mlflow   :\", mlflow.__version__)\n"
   ]
  },
  {
   "cell_type": "code",
   "execution_count": 2,
   "id": "600374bf-fc14-4f86-b008-b9a557cec053",
   "metadata": {},
   "outputs": [],
   "source": [
    "!pip install --quiet --no-deps --force-reinstall \\\n",
    "  scikit-learn==1.5.1 joblib==1.2.0\n"
   ]
  },
  {
   "cell_type": "code",
   "execution_count": 2,
   "id": "7bda85f0-1b53-4da9-9cae-e1478743a472",
   "metadata": {},
   "outputs": [
    {
     "name": "stdout",
     "output_type": "stream",
     "text": [
      "➜  Python exe: /anaconda/envs/jupyter_env/bin/python\n",
      "Found existing installation: scipy 1.15.2\n",
      "Uninstalling scipy-1.15.2:\n",
      "  Successfully uninstalled scipy-1.15.2\n"
     ]
    },
    {
     "name": "stderr",
     "output_type": "stream",
     "text": [
      "\u001b[33mWARNING: Skipping threadpoolctl as it is not installed.\u001b[0m\u001b[33m\n",
      "\u001b[0m\u001b[33mWARNING: The candidate selected for download or install is a yanked version: 'scipy' candidate (version 1.11.0 at https://files.pythonhosted.org/packages/5a/55/ec296aa9399d00f5d6794b90d96b5cce5eeb46c62450173fedb2b3b7ef72/scipy-1.11.0-cp310-cp310-manylinux_2_17_x86_64.manylinux2014_x86_64.whl (from https://pypi.org/simple/scipy/) (requires-python:<3.13,>=3.9))\n",
      "Reason for being yanked: License Violation\u001b[0m\u001b[33m\n",
      "\u001b[0m"
     ]
    },
    {
     "name": "stdout",
     "output_type": "stream",
     "text": [
      "✅  Kurulum tamam — sürümler:\n",
      "  scipy          1.11.0\n",
      "  threadpoolctl  3.1.0\n"
     ]
    }
   ],
   "source": [
    "import sys, subprocess, importlib.metadata as md\n",
    "\n",
    "print(\"➜  Python exe:\", sys.executable)\n",
    "\n",
    "# 1) Eski/bozuk kurulumları kaldır\n",
    "subprocess.run([sys.executable, \"-m\", \"pip\", \"uninstall\", \"-y\",\n",
    "                \"scipy\", \"threadpoolctl\"], check=False)\n",
    "\n",
    "# 2) Uyumlu ikili wheel’leri kur (no-deps → başka pakete dokunma)\n",
    "subprocess.check_call(\n",
    "    [sys.executable, \"-m\", \"pip\", \"install\", \"--quiet\", \"--no-deps\",\n",
    "     \"scipy==1.11.0\", \"threadpoolctl==3.1.0\"]\n",
    ")\n",
    "\n",
    "print(\"✅  Kurulum tamam — sürümler:\")\n",
    "for p in (\"scipy\", \"threadpoolctl\"):\n",
    "    print(f\"  {p:<14}\", md.version(p))\n"
   ]
  },
  {
   "cell_type": "code",
   "execution_count": 1,
   "id": "c5c84f32-5e39-43cd-9cfd-e4ead426f5d0",
   "metadata": {},
   "outputs": [
    {
     "name": "stdout",
     "output_type": "stream",
     "text": [
      "NumPy : 1.23.5\n",
      "pandas: 2.2.3\n",
      "sklearn: 1.4.2\n",
      "joblib : 1.2.0\n"
     ]
    }
   ],
   "source": [
    "import numpy, pandas as pd, sklearn, joblib\n",
    "print(\"NumPy :\", numpy.__version__)\n",
    "print(\"pandas:\", pd.__version__)\n",
    "print(\"sklearn:\", sklearn.__version__)\n",
    "print(\"joblib :\", joblib.__version__)\n"
   ]
  },
  {
   "cell_type": "code",
   "execution_count": 10,
   "id": "82a8e39c-519f-4140-b864-b03784493a39",
   "metadata": {},
   "outputs": [
    {
     "name": "stdout",
     "output_type": "stream",
     "text": [
      "Ham şekil: (9357, 17)\n"
     ]
    },
    {
     "data": {
      "text/html": [
       "<div>\n",
       "<style scoped>\n",
       "    .dataframe tbody tr th:only-of-type {\n",
       "        vertical-align: middle;\n",
       "    }\n",
       "\n",
       "    .dataframe tbody tr th {\n",
       "        vertical-align: top;\n",
       "    }\n",
       "\n",
       "    .dataframe thead th {\n",
       "        text-align: right;\n",
       "    }\n",
       "</style>\n",
       "<table border=\"1\" class=\"dataframe\">\n",
       "  <thead>\n",
       "    <tr style=\"text-align: right;\">\n",
       "      <th></th>\n",
       "      <th>Date</th>\n",
       "      <th>Time</th>\n",
       "      <th>CO(GT)</th>\n",
       "      <th>PT08.S1(CO)</th>\n",
       "      <th>NMHC(GT)</th>\n",
       "      <th>C6H6(GT)</th>\n",
       "      <th>PT08.S2(NMHC)</th>\n",
       "      <th>NOx(GT)</th>\n",
       "      <th>PT08.S3(NOx)</th>\n",
       "      <th>NO2(GT)</th>\n",
       "      <th>PT08.S4(NO2)</th>\n",
       "      <th>PT08.S5(O3)</th>\n",
       "      <th>T</th>\n",
       "      <th>RH</th>\n",
       "      <th>AH</th>\n",
       "      <th>Unnamed: 15</th>\n",
       "      <th>Unnamed: 16</th>\n",
       "    </tr>\n",
       "    <tr>\n",
       "      <th>utc</th>\n",
       "      <th></th>\n",
       "      <th></th>\n",
       "      <th></th>\n",
       "      <th></th>\n",
       "      <th></th>\n",
       "      <th></th>\n",
       "      <th></th>\n",
       "      <th></th>\n",
       "      <th></th>\n",
       "      <th></th>\n",
       "      <th></th>\n",
       "      <th></th>\n",
       "      <th></th>\n",
       "      <th></th>\n",
       "      <th></th>\n",
       "      <th></th>\n",
       "      <th></th>\n",
       "    </tr>\n",
       "  </thead>\n",
       "  <tbody>\n",
       "    <tr>\n",
       "      <th>2004-03-10 18:00:00</th>\n",
       "      <td>10/03/2004</td>\n",
       "      <td>18.00.00</td>\n",
       "      <td>2.6</td>\n",
       "      <td>1360.0</td>\n",
       "      <td>150.0</td>\n",
       "      <td>11.9</td>\n",
       "      <td>1046.0</td>\n",
       "      <td>166.0</td>\n",
       "      <td>1056.0</td>\n",
       "      <td>113.0</td>\n",
       "      <td>1692.0</td>\n",
       "      <td>1268.0</td>\n",
       "      <td>13.6</td>\n",
       "      <td>48.9</td>\n",
       "      <td>0.7578</td>\n",
       "      <td>NaN</td>\n",
       "      <td>NaN</td>\n",
       "    </tr>\n",
       "    <tr>\n",
       "      <th>2004-03-10 19:00:00</th>\n",
       "      <td>10/03/2004</td>\n",
       "      <td>19.00.00</td>\n",
       "      <td>2.0</td>\n",
       "      <td>1292.0</td>\n",
       "      <td>112.0</td>\n",
       "      <td>9.4</td>\n",
       "      <td>955.0</td>\n",
       "      <td>103.0</td>\n",
       "      <td>1174.0</td>\n",
       "      <td>92.0</td>\n",
       "      <td>1559.0</td>\n",
       "      <td>972.0</td>\n",
       "      <td>13.3</td>\n",
       "      <td>47.7</td>\n",
       "      <td>0.7255</td>\n",
       "      <td>NaN</td>\n",
       "      <td>NaN</td>\n",
       "    </tr>\n",
       "    <tr>\n",
       "      <th>2004-03-10 20:00:00</th>\n",
       "      <td>10/03/2004</td>\n",
       "      <td>20.00.00</td>\n",
       "      <td>2.2</td>\n",
       "      <td>1402.0</td>\n",
       "      <td>88.0</td>\n",
       "      <td>9.0</td>\n",
       "      <td>939.0</td>\n",
       "      <td>131.0</td>\n",
       "      <td>1140.0</td>\n",
       "      <td>114.0</td>\n",
       "      <td>1555.0</td>\n",
       "      <td>1074.0</td>\n",
       "      <td>11.9</td>\n",
       "      <td>54.0</td>\n",
       "      <td>0.7502</td>\n",
       "      <td>NaN</td>\n",
       "      <td>NaN</td>\n",
       "    </tr>\n",
       "  </tbody>\n",
       "</table>\n",
       "</div>"
      ],
      "text/plain": [
       "                           Date      Time  CO(GT)  PT08.S1(CO)  NMHC(GT)  \\\n",
       "utc                                                                        \n",
       "2004-03-10 18:00:00  10/03/2004  18.00.00     2.6       1360.0     150.0   \n",
       "2004-03-10 19:00:00  10/03/2004  19.00.00     2.0       1292.0     112.0   \n",
       "2004-03-10 20:00:00  10/03/2004  20.00.00     2.2       1402.0      88.0   \n",
       "\n",
       "                     C6H6(GT)  PT08.S2(NMHC)  NOx(GT)  PT08.S3(NOx)  NO2(GT)  \\\n",
       "utc                                                                            \n",
       "2004-03-10 18:00:00      11.9         1046.0    166.0        1056.0    113.0   \n",
       "2004-03-10 19:00:00       9.4          955.0    103.0        1174.0     92.0   \n",
       "2004-03-10 20:00:00       9.0          939.0    131.0        1140.0    114.0   \n",
       "\n",
       "                     PT08.S4(NO2)  PT08.S5(O3)     T    RH      AH  \\\n",
       "utc                                                                  \n",
       "2004-03-10 18:00:00        1692.0       1268.0  13.6  48.9  0.7578   \n",
       "2004-03-10 19:00:00        1559.0        972.0  13.3  47.7  0.7255   \n",
       "2004-03-10 20:00:00        1555.0       1074.0  11.9  54.0  0.7502   \n",
       "\n",
       "                     Unnamed: 15  Unnamed: 16  \n",
       "utc                                            \n",
       "2004-03-10 18:00:00          NaN          NaN  \n",
       "2004-03-10 19:00:00          NaN          NaN  \n",
       "2004-03-10 20:00:00          NaN          NaN  "
      ]
     },
     "execution_count": 10,
     "metadata": {},
     "output_type": "execute_result"
    }
   ],
   "source": [
    "import pandas as pd\n",
    "\n",
    "df_raw = pd.read_csv(csv_path, sep=';', decimal=',', na_values=[-200])\n",
    "\n",
    "# 1) 'Date' + 'Time' sütunlarını birleştir ve dt’ye çevir\n",
    "df_raw[\"utc\"] = pd.to_datetime(\n",
    "    df_raw[\"Date\"] + \" \" + df_raw[\"Time\"],\n",
    "    format=\"%d/%m/%Y %H.%M.%S\", errors=\"coerce\"\n",
    ")\n",
    "\n",
    "# 2) Geçersiz tarihler (NaT) varsa düş\n",
    "df_raw.dropna(subset=[\"utc\"], inplace=True)\n",
    "\n",
    "# 3) İndeks olarak ayarla\n",
    "df_raw.set_index(\"utc\", inplace=True)\n",
    "print(\"Ham şekil:\", df_raw.shape)\n",
    "df_raw.head(3)\n"
   ]
  },
  {
   "cell_type": "code",
   "execution_count": 11,
   "id": "87d36269-eeec-4487-8fde-1a8fff2fac88",
   "metadata": {},
   "outputs": [
    {
     "data": {
      "text/plain": [
       "Index(['Date', 'Time', 'CO(GT)', 'PT08.S1(CO)', 'NMHC(GT)', 'C6H6(GT)',\n",
       "       'PT08.S2(NMHC)', 'NOx(GT)', 'PT08.S3(NOx)', 'NO2(GT)', 'PT08.S4(NO2)',\n",
       "       'PT08.S5(O3)', 'T', 'RH', 'AH', 'Unnamed: 15', 'Unnamed: 16'],\n",
       "      dtype='object')"
      ]
     },
     "execution_count": 11,
     "metadata": {},
     "output_type": "execute_result"
    }
   ],
   "source": [
    "df_raw.keys()"
   ]
  },
  {
   "cell_type": "code",
   "execution_count": 12,
   "id": "234e5ed3-312f-4313-91ad-7dd8d27f0203",
   "metadata": {},
   "outputs": [
    {
     "name": "stdout",
     "output_type": "stream",
     "text": [
      "Model veri şekli: (7319, 7)\n"
     ]
    },
    {
     "data": {
      "text/html": [
       "<div>\n",
       "<style scoped>\n",
       "    .dataframe tbody tr th:only-of-type {\n",
       "        vertical-align: middle;\n",
       "    }\n",
       "\n",
       "    .dataframe tbody tr th {\n",
       "        vertical-align: top;\n",
       "    }\n",
       "\n",
       "    .dataframe thead th {\n",
       "        text-align: right;\n",
       "    }\n",
       "</style>\n",
       "<table border=\"1\" class=\"dataframe\">\n",
       "  <thead>\n",
       "    <tr style=\"text-align: right;\">\n",
       "      <th></th>\n",
       "      <th>CO</th>\n",
       "      <th>PM25</th>\n",
       "      <th>hour</th>\n",
       "      <th>dow</th>\n",
       "      <th>lag_1</th>\n",
       "      <th>lag_24</th>\n",
       "      <th>target</th>\n",
       "    </tr>\n",
       "    <tr>\n",
       "      <th>utc</th>\n",
       "      <th></th>\n",
       "      <th></th>\n",
       "      <th></th>\n",
       "      <th></th>\n",
       "      <th></th>\n",
       "      <th></th>\n",
       "      <th></th>\n",
       "    </tr>\n",
       "  </thead>\n",
       "  <tbody>\n",
       "    <tr>\n",
       "      <th>2004-03-11 19:00:00</th>\n",
       "      <td>6.9</td>\n",
       "      <td>1704.0</td>\n",
       "      <td>19</td>\n",
       "      <td>3</td>\n",
       "      <td>1409.0</td>\n",
       "      <td>1268.0</td>\n",
       "      <td>1654.0</td>\n",
       "    </tr>\n",
       "    <tr>\n",
       "      <th>2004-03-11 20:00:00</th>\n",
       "      <td>6.1</td>\n",
       "      <td>1654.0</td>\n",
       "      <td>20</td>\n",
       "      <td>3</td>\n",
       "      <td>1704.0</td>\n",
       "      <td>972.0</td>\n",
       "      <td>1285.0</td>\n",
       "    </tr>\n",
       "    <tr>\n",
       "      <th>2004-03-11 21:00:00</th>\n",
       "      <td>3.9</td>\n",
       "      <td>1285.0</td>\n",
       "      <td>21</td>\n",
       "      <td>3</td>\n",
       "      <td>1654.0</td>\n",
       "      <td>1074.0</td>\n",
       "      <td>821.0</td>\n",
       "    </tr>\n",
       "  </tbody>\n",
       "</table>\n",
       "</div>"
      ],
      "text/plain": [
       "                      CO    PM25  hour  dow   lag_1  lag_24  target\n",
       "utc                                                                \n",
       "2004-03-11 19:00:00  6.9  1704.0    19    3  1409.0  1268.0  1654.0\n",
       "2004-03-11 20:00:00  6.1  1654.0    20    3  1704.0   972.0  1285.0\n",
       "2004-03-11 21:00:00  3.9  1285.0    21    3  1654.0  1074.0   821.0"
      ]
     },
     "execution_count": 12,
     "metadata": {},
     "output_type": "execute_result"
    }
   ],
   "source": [
    "df = df_raw[[\"CO(GT)\", \"PT08.S5(O3)\"]].dropna()\n",
    "df.columns = [\"CO\", \"PM25\"]\n",
    "\n",
    "df[\"hour\"]   = df.index.hour\n",
    "df[\"dow\"]    = df.index.dayofweek\n",
    "df[\"lag_1\"]  = df[\"PM25\"].shift(1)\n",
    "df[\"lag_24\"] = df[\"PM25\"].shift(24)\n",
    "df.dropna(inplace=True)\n",
    "\n",
    "df[\"target\"] = df[\"PM25\"].shift(-1)\n",
    "df.dropna(inplace=True)\n",
    "\n",
    "print(\"Model veri şekli:\", df.shape)\n",
    "df.head(3)\n"
   ]
  },
  {
   "cell_type": "code",
   "execution_count": 14,
   "id": "e5249a74-7464-4c42-85b8-123b99682f4f",
   "metadata": {},
   "outputs": [
    {
     "name": "stdout",
     "output_type": "stream",
     "text": [
      "MAE: 117.31\n"
     ]
    },
    {
     "data": {
      "text/plain": [
       "['model/model.pkl']"
      ]
     },
     "execution_count": 14,
     "metadata": {},
     "output_type": "execute_result"
    }
   ],
   "source": [
    "from sklearn.ensemble import RandomForestRegressor\n",
    "from sklearn.model_selection import train_test_split\n",
    "from sklearn.metrics import mean_absolute_error\n",
    "import joblib, pathlib\n",
    "\n",
    "X = df[[\"PM25\", \"hour\", \"dow\", \"lag_1\", \"lag_24\"]]\n",
    "y = df[\"target\"]\n",
    "X_tr, X_te, y_tr, y_te = train_test_split(X, y, test_size=0.2, shuffle=False)\n",
    "\n",
    "rf = RandomForestRegressor(n_estimators=150, random_state=0)\n",
    "rf.fit(X_tr, y_tr)\n",
    "mae = mean_absolute_error(y_te, rf.predict(X_te))\n",
    "print(\"MAE:\", round(mae, 2))\n",
    "\n",
    "# model.pkl dosyasını kaydet\n",
    "pathlib.Path(\"model\").mkdir(exist_ok=True)\n",
    "joblib.dump(rf, \"model/model.pkl\")\n"
   ]
  },
  {
   "cell_type": "code",
   "execution_count": 27,
   "id": "1a848021-c78a-4790-ab59-382ea1f8a1c1",
   "metadata": {},
   "outputs": [
    {
     "name": "stdout",
     "output_type": "stream",
     "text": [
      "Overwriting score.py\n"
     ]
    }
   ],
   "source": [
    "%%writefile score.py\n",
    "import json, joblib, numpy as np\n",
    "def init():\n",
    "    global mdl\n",
    "    mdl = joblib.load(\"model.pkl\")\n",
    "def run(raw):\n",
    "    d = json.loads(raw)\n",
    "    X = [[d[\"PM25\"], d[\"hour\"], d[\"dow\"], d[\"lag_1\"], d[\"lag_24\"]]]\n",
    "    return {\"pm25_next_1h\": float(np.round(mdl.predict(X)[0], 2))}\n",
    "\n",
    "%%writefile env.yml\n",
    "name: rf-env\n",
    "channels: [conda-forge]\n",
    "dependencies:\n",
    "  - python=3.10\n",
    "  - scikit-learn==1.4.2\n",
    "  - joblib==1.2.0\n"
   ]
  },
  {
   "cell_type": "code",
   "execution_count": 47,
   "id": "b1a4dc9d-1bba-46d2-ad20-5dddcc81321b",
   "metadata": {},
   "outputs": [
    {
     "name": "stdout",
     "output_type": "stream",
     "text": [
      "➜ Kurulum başlıyor…\n",
      "matplotlib 3.8.4\n",
      "seaborn    0.13.2\n"
     ]
    }
   ],
   "source": [
    "# 🔧 1)  Aktif yorumlayıcıya kur\n",
    "import sys, subprocess, importlib\n",
    "\n",
    "cmd = [\n",
    "    sys.executable, \"-m\", \"pip\", \"install\", \"--quiet\",\n",
    "    \"matplotlib==3.8.4\", \"seaborn==0.13.2\"\n",
    "]\n",
    "print(\"➜ Kurulum başlıyor…\")\n",
    "subprocess.check_call(cmd)\n",
    "\n",
    "# 🔄 2)  Modülleri içe aktararak test et\n",
    "matplotlib = importlib.import_module(\"matplotlib\")\n",
    "seaborn    = importlib.import_module(\"seaborn\")\n",
    "\n",
    "print(\"matplotlib\", matplotlib.__version__)\n",
    "print(\"seaborn   \", seaborn.__version__)\n"
   ]
  },
  {
   "cell_type": "code",
   "execution_count": 44,
   "id": "6ee22659-e4cd-4cc0-8024-72c4118bb224",
   "metadata": {},
   "outputs": [
    {
     "data": {
      "text/html": [
       "<div>\n",
       "<style scoped>\n",
       "    .dataframe tbody tr th:only-of-type {\n",
       "        vertical-align: middle;\n",
       "    }\n",
       "\n",
       "    .dataframe tbody tr th {\n",
       "        vertical-align: top;\n",
       "    }\n",
       "\n",
       "    .dataframe thead th {\n",
       "        text-align: right;\n",
       "    }\n",
       "</style>\n",
       "<table border=\"1\" class=\"dataframe\">\n",
       "  <thead>\n",
       "    <tr style=\"text-align: right;\">\n",
       "      <th></th>\n",
       "      <th>CO</th>\n",
       "      <th>PM25</th>\n",
       "      <th>hour</th>\n",
       "      <th>dow</th>\n",
       "      <th>lag_1</th>\n",
       "      <th>lag_24</th>\n",
       "      <th>target</th>\n",
       "    </tr>\n",
       "  </thead>\n",
       "  <tbody>\n",
       "    <tr>\n",
       "      <th>CO</th>\n",
       "      <td>1.00</td>\n",
       "      <td>0.85</td>\n",
       "      <td>0.36</td>\n",
       "      <td>-0.13</td>\n",
       "      <td>0.74</td>\n",
       "      <td>0.44</td>\n",
       "      <td>0.75</td>\n",
       "    </tr>\n",
       "    <tr>\n",
       "      <th>PM25</th>\n",
       "      <td>0.85</td>\n",
       "      <td>1.00</td>\n",
       "      <td>0.24</td>\n",
       "      <td>-0.12</td>\n",
       "      <td>0.90</td>\n",
       "      <td>0.49</td>\n",
       "      <td>0.90</td>\n",
       "    </tr>\n",
       "    <tr>\n",
       "      <th>hour</th>\n",
       "      <td>0.36</td>\n",
       "      <td>0.24</td>\n",
       "      <td>1.00</td>\n",
       "      <td>-0.01</td>\n",
       "      <td>0.23</td>\n",
       "      <td>0.21</td>\n",
       "      <td>0.23</td>\n",
       "    </tr>\n",
       "    <tr>\n",
       "      <th>dow</th>\n",
       "      <td>-0.13</td>\n",
       "      <td>-0.12</td>\n",
       "      <td>-0.01</td>\n",
       "      <td>1.00</td>\n",
       "      <td>-0.11</td>\n",
       "      <td>0.15</td>\n",
       "      <td>-0.13</td>\n",
       "    </tr>\n",
       "    <tr>\n",
       "      <th>lag_1</th>\n",
       "      <td>0.74</td>\n",
       "      <td>0.90</td>\n",
       "      <td>0.23</td>\n",
       "      <td>-0.11</td>\n",
       "      <td>1.00</td>\n",
       "      <td>0.51</td>\n",
       "      <td>0.74</td>\n",
       "    </tr>\n",
       "    <tr>\n",
       "      <th>lag_24</th>\n",
       "      <td>0.44</td>\n",
       "      <td>0.49</td>\n",
       "      <td>0.21</td>\n",
       "      <td>0.15</td>\n",
       "      <td>0.51</td>\n",
       "      <td>1.00</td>\n",
       "      <td>0.42</td>\n",
       "    </tr>\n",
       "    <tr>\n",
       "      <th>target</th>\n",
       "      <td>0.75</td>\n",
       "      <td>0.90</td>\n",
       "      <td>0.23</td>\n",
       "      <td>-0.13</td>\n",
       "      <td>0.74</td>\n",
       "      <td>0.42</td>\n",
       "      <td>1.00</td>\n",
       "    </tr>\n",
       "  </tbody>\n",
       "</table>\n",
       "</div>"
      ],
      "text/plain": [
       "          CO  PM25  hour   dow  lag_1  lag_24  target\n",
       "CO      1.00  0.85  0.36 -0.13   0.74    0.44    0.75\n",
       "PM25    0.85  1.00  0.24 -0.12   0.90    0.49    0.90\n",
       "hour    0.36  0.24  1.00 -0.01   0.23    0.21    0.23\n",
       "dow    -0.13 -0.12 -0.01  1.00  -0.11    0.15   -0.13\n",
       "lag_1   0.74  0.90  0.23 -0.11   1.00    0.51    0.74\n",
       "lag_24  0.44  0.49  0.21  0.15   0.51    1.00    0.42\n",
       "target  0.75  0.90  0.23 -0.13   0.74    0.42    1.00"
      ]
     },
     "metadata": {},
     "output_type": "display_data"
    }
   ],
   "source": []
  },
  {
   "cell_type": "code",
   "execution_count": 45,
   "id": "24a92042-88e5-452d-bb26-1c83c71e64cc",
   "metadata": {},
   "outputs": [
    {
     "name": "stdout",
     "output_type": "stream",
     "text": [
      "MAE  : 117.31 µg/m³\n",
      "R²   : 0.859\n"
     ]
    },
    {
     "data": {
      "text/plain": [
       "['model.pkl']"
      ]
     },
     "execution_count": 45,
     "metadata": {},
     "output_type": "execute_result"
    }
   ],
   "source": [
    "from sklearn.ensemble import RandomForestRegressor\n",
    "from sklearn.model_selection import train_test_split\n",
    "from sklearn.metrics import mean_absolute_error, r2_score\n",
    "import joblib\n",
    "\n",
    "X = df[[\"PM25\",\"hour\",\"dow\",\"lag_1\",\"lag_24\"]]\n",
    "y = df[\"target\"]\n",
    "X_tr, X_te, y_tr, y_te = train_test_split(X, y, test_size=0.2, shuffle=False)\n",
    "\n",
    "rf = RandomForestRegressor(n_estimators=150, random_state=0)\n",
    "rf.fit(X_tr, y_tr)\n",
    "\n",
    "preds = rf.predict(X_te)\n",
    "mae   = mean_absolute_error(y_te, preds)\n",
    "r2    = r2_score(y_te, preds)\n",
    "print(f\"MAE  : {mae:.2f} µg/m³\")\n",
    "print(f\"R²   : {r2:.3f}\")\n",
    "\n",
    "joblib.dump(rf, \"model.pkl\")\n"
   ]
  },
  {
   "cell_type": "code",
   "execution_count": 46,
   "id": "9eb7e10c-7680-4e67-aa4b-1aae7816332e",
   "metadata": {},
   "outputs": [
    {
     "ename": "ModuleNotFoundError",
     "evalue": "No module named 'matplotlib'",
     "output_type": "error",
     "traceback": [
      "\u001b[0;31m---------------------------------------------------------------------------\u001b[0m",
      "\u001b[0;31mModuleNotFoundError\u001b[0m                       Traceback (most recent call last)",
      "Cell \u001b[0;32mIn[46], line 1\u001b[0m\n\u001b[0;32m----> 1\u001b[0m \u001b[38;5;28;01mimport\u001b[39;00m\u001b[38;5;250m \u001b[39m\u001b[38;5;21;01mmatplotlib\u001b[39;00m\u001b[38;5;21;01m.\u001b[39;00m\u001b[38;5;21;01mpyplot\u001b[39;00m\u001b[38;5;250m \u001b[39m\u001b[38;5;28;01mas\u001b[39;00m\u001b[38;5;250m \u001b[39m\u001b[38;5;21;01mplt\u001b[39;00m\n\u001b[1;32m      2\u001b[0m plt\u001b[38;5;241m.\u001b[39mfigure(figsize\u001b[38;5;241m=\u001b[39m(\u001b[38;5;241m10\u001b[39m,\u001b[38;5;241m4\u001b[39m))\n\u001b[1;32m      3\u001b[0m plt\u001b[38;5;241m.\u001b[39mplot(y_te[\u001b[38;5;241m-\u001b[39m\u001b[38;5;241m168\u001b[39m:]\u001b[38;5;241m.\u001b[39mindex, y_te[\u001b[38;5;241m-\u001b[39m\u001b[38;5;241m168\u001b[39m:], label\u001b[38;5;241m=\u001b[39m\u001b[38;5;124m\"\u001b[39m\u001b[38;5;124mGerçek\u001b[39m\u001b[38;5;124m\"\u001b[39m)\n",
      "\u001b[0;31mModuleNotFoundError\u001b[0m: No module named 'matplotlib'"
     ]
    }
   ],
   "source": [
    "import matplotlib.pyplot as plt\n",
    "plt.figure(figsize=(10,4))\n",
    "plt.plot(y_te[-168:].index, y_te[-168:], label=\"Gerçek\")\n",
    "plt.plot(y_te[-168:].index, preds[-168:], label=\"Tahmin\")\n",
    "plt.legend(); plt.title(\"PM2.5  •  Gerçek vs Tahmin (Son 1 Hafta)\")\n",
    "plt.ylabel(\"µg/m³\"); plt.xticks(rotation=45); plt.tight_layout(); plt.show()\n"
   ]
  },
  {
   "cell_type": "code",
   "execution_count": null,
   "id": "486dc2aa-c594-442b-9c13-67f15ee67aa5",
   "metadata": {},
   "outputs": [],
   "source": []
  }
 ],
 "metadata": {
  "kernelspec": {
   "display_name": "Python 3 (ipykernel)",
   "language": "python",
   "name": "python3"
  },
  "language_info": {
   "codemirror_mode": {
    "name": "ipython",
    "version": 3
   },
   "file_extension": ".py",
   "mimetype": "text/x-python",
   "name": "python",
   "nbconvert_exporter": "python",
   "pygments_lexer": "ipython3",
   "version": "3.10.16"
  }
 },
 "nbformat": 4,
 "nbformat_minor": 5
}
